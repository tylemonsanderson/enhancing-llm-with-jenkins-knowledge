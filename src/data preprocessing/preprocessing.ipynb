{
 "cells": [
  {
   "cell_type": "markdown",
   "metadata": {},
   "source": [
    "# Controllers"
   ]
  },
  {
   "cell_type": "code",
   "execution_count": 91,
   "metadata": {},
   "outputs": [],
   "source": [
    "file_name = '../../datasets/Jenkins Docs QA.csv'\n",
    "questions_col = 'Question'\n",
    "answers_col = 'Answer'\n",
    "\n",
    "# file_name = '../../datasets/Community Questions Refined.csv'\n",
    "# questions_col = 'questions'\n",
    "# answers_col = 'answers'\n",
    "\n",
    "# file_name = '../../datasets/QueryResultsUpdated.csv'\n",
    "# questions_col = 'Question Body'\n",
    "# answers_col = 'Answer Body'\n",
    "max_sequence_length = 11000\n",
    "num_samples = 1000 # None"
   ]
  },
  {
   "cell_type": "markdown",
   "metadata": {},
   "source": [
    "# Imports"
   ]
  },
  {
   "cell_type": "code",
   "execution_count": 92,
   "metadata": {},
   "outputs": [],
   "source": [
    "from utils import *\n",
    "import pandas as pd\n",
    "from datasets import Dataset"
   ]
  },
  {
   "cell_type": "markdown",
   "metadata": {},
   "source": [
    "# Load And Process Our Dataset - External Sources"
   ]
  },
  {
   "cell_type": "code",
   "execution_count": 93,
   "metadata": {},
   "outputs": [],
   "source": [
    "raw_data = pd.read_csv(file_name)"
   ]
  },
  {
   "cell_type": "code",
   "execution_count": 94,
   "metadata": {},
   "outputs": [
    {
     "data": {
      "text/plain": [
       "765"
      ]
     },
     "execution_count": 94,
     "metadata": {},
     "output_type": "execute_result"
    }
   ],
   "source": [
    "len(raw_data)"
   ]
  },
  {
   "cell_type": "code",
   "execution_count": 95,
   "metadata": {},
   "outputs": [
    {
     "data": {
      "text/html": [
       "<div>\n",
       "<style scoped>\n",
       "    .dataframe tbody tr th:only-of-type {\n",
       "        vertical-align: middle;\n",
       "    }\n",
       "\n",
       "    .dataframe tbody tr th {\n",
       "        vertical-align: top;\n",
       "    }\n",
       "\n",
       "    .dataframe thead th {\n",
       "        text-align: right;\n",
       "    }\n",
       "</style>\n",
       "<table border=\"1\" class=\"dataframe\">\n",
       "  <thead>\n",
       "    <tr style=\"text-align: right;\">\n",
       "      <th></th>\n",
       "      <th>Question</th>\n",
       "      <th>Answer</th>\n",
       "    </tr>\n",
       "  </thead>\n",
       "  <tbody>\n",
       "    <tr>\n",
       "      <th>0</th>\n",
       "      <td>What is Jenkins?</td>\n",
       "      <td>Jenkins is a self-contained, open-source autom...</td>\n",
       "    </tr>\n",
       "    <tr>\n",
       "      <th>1</th>\n",
       "      <td>What should I refer to if I want to develop my...</td>\n",
       "      <td>If you want to extend the functionality of Jen...</td>\n",
       "    </tr>\n",
       "  </tbody>\n",
       "</table>\n",
       "</div>"
      ],
      "text/plain": [
       "                                            Question   \n",
       "0                                   What is Jenkins?  \\\n",
       "1  What should I refer to if I want to develop my...   \n",
       "\n",
       "                                              Answer  \n",
       "0  Jenkins is a self-contained, open-source autom...  \n",
       "1  If you want to extend the functionality of Jen...  "
      ]
     },
     "execution_count": 95,
     "metadata": {},
     "output_type": "execute_result"
    }
   ],
   "source": [
    "raw_data.head(2)"
   ]
  },
  {
   "cell_type": "code",
   "execution_count": 96,
   "metadata": {},
   "outputs": [],
   "source": [
    "# Define condition to drop rows where answers_col has a code tag in\n",
    "condition = raw_data[answers_col].str.contains('<code>')\n",
    "\n",
    "# Drop rows based on the condition\n",
    "raw_data = raw_data[~condition]"
   ]
  },
  {
   "cell_type": "code",
   "execution_count": 97,
   "metadata": {},
   "outputs": [
    {
     "data": {
      "text/plain": [
       "765"
      ]
     },
     "execution_count": 97,
     "metadata": {},
     "output_type": "execute_result"
    }
   ],
   "source": [
    "len(raw_data)"
   ]
  },
  {
   "cell_type": "code",
   "execution_count": 98,
   "metadata": {},
   "outputs": [
    {
     "data": {
      "text/html": [
       "<div>\n",
       "<style scoped>\n",
       "    .dataframe tbody tr th:only-of-type {\n",
       "        vertical-align: middle;\n",
       "    }\n",
       "\n",
       "    .dataframe tbody tr th {\n",
       "        vertical-align: top;\n",
       "    }\n",
       "\n",
       "    .dataframe thead th {\n",
       "        text-align: right;\n",
       "    }\n",
       "</style>\n",
       "<table border=\"1\" class=\"dataframe\">\n",
       "  <thead>\n",
       "    <tr style=\"text-align: right;\">\n",
       "      <th></th>\n",
       "      <th>Question</th>\n",
       "      <th>Answer</th>\n",
       "    </tr>\n",
       "  </thead>\n",
       "  <tbody>\n",
       "    <tr>\n",
       "      <th>0</th>\n",
       "      <td>What is Jenkins?</td>\n",
       "      <td>Jenkins is a self-contained, open-source autom...</td>\n",
       "    </tr>\n",
       "    <tr>\n",
       "      <th>1</th>\n",
       "      <td>What should I refer to if I want to develop my...</td>\n",
       "      <td>If you want to extend the functionality of Jen...</td>\n",
       "    </tr>\n",
       "    <tr>\n",
       "      <th>2</th>\n",
       "      <td>What is the purpose of this Jenkins documentat...</td>\n",
       "      <td>The purpose of this documentation is to help u...</td>\n",
       "    </tr>\n",
       "    <tr>\n",
       "      <th>3</th>\n",
       "      <td>What is a good starting point for users who ha...</td>\n",
       "      <td>Users who have never used Jenkins or have limi...</td>\n",
       "    </tr>\n",
       "    <tr>\n",
       "      <th>4</th>\n",
       "      <td>Where can I find more detailed information abo...</td>\n",
       "      <td>For more detailed information about using Jenk...</td>\n",
       "    </tr>\n",
       "  </tbody>\n",
       "</table>\n",
       "</div>"
      ],
      "text/plain": [
       "                                            Question   \n",
       "0                                   What is Jenkins?  \\\n",
       "1  What should I refer to if I want to develop my...   \n",
       "2  What is the purpose of this Jenkins documentat...   \n",
       "3  What is a good starting point for users who ha...   \n",
       "4  Where can I find more detailed information abo...   \n",
       "\n",
       "                                              Answer  \n",
       "0  Jenkins is a self-contained, open-source autom...  \n",
       "1  If you want to extend the functionality of Jen...  \n",
       "2  The purpose of this documentation is to help u...  \n",
       "3  Users who have never used Jenkins or have limi...  \n",
       "4  For more detailed information about using Jenk...  "
      ]
     },
     "execution_count": 98,
     "metadata": {},
     "output_type": "execute_result"
    }
   ],
   "source": [
    "raw_data.head(5)"
   ]
  },
  {
   "cell_type": "code",
   "execution_count": 99,
   "metadata": {},
   "outputs": [
    {
     "data": {
      "text/plain": [
       "0      Jenkins is a self-contained, open-source autom...\n",
       "1      If you want to extend the functionality of Jen...\n",
       "2      The purpose of this documentation is to help u...\n",
       "3      Users who have never used Jenkins or have limi...\n",
       "4      For more detailed information about using Jenk...\n",
       "                             ...                        \n",
       "760    File fingerprinting in Jenkins is used to trac...\n",
       "761    To set up file fingerprinting in Jenkins, rele...\n",
       "762    Jenkins stores the MD5 checksum (fingerprint) ...\n",
       "763    Jenkins users can benefit from file fingerprin...\n",
       "764    Some typical scenarios where file fingerprinti...\n",
       "Name: Answer, Length: 765, dtype: object"
      ]
     },
     "execution_count": 99,
     "metadata": {},
     "output_type": "execute_result"
    }
   ],
   "source": [
    "raw_data[answers_col]"
   ]
  },
  {
   "cell_type": "code",
   "execution_count": 100,
   "metadata": {},
   "outputs": [],
   "source": [
    "# Define condition to drop rows where questions_col has code tag\n",
    "condition = raw_data[questions_col].str.contains('<code>')\n",
    "\n",
    "# Drop rows based on the condition\n",
    "raw_data = raw_data[~condition]"
   ]
  },
  {
   "cell_type": "code",
   "execution_count": 101,
   "metadata": {},
   "outputs": [
    {
     "data": {
      "text/plain": [
       "765"
      ]
     },
     "execution_count": 101,
     "metadata": {},
     "output_type": "execute_result"
    }
   ],
   "source": [
    "len(raw_data)"
   ]
  },
  {
   "cell_type": "code",
   "execution_count": 102,
   "metadata": {},
   "outputs": [
    {
     "data": {
      "text/html": [
       "<div>\n",
       "<style scoped>\n",
       "    .dataframe tbody tr th:only-of-type {\n",
       "        vertical-align: middle;\n",
       "    }\n",
       "\n",
       "    .dataframe tbody tr th {\n",
       "        vertical-align: top;\n",
       "    }\n",
       "\n",
       "    .dataframe thead th {\n",
       "        text-align: right;\n",
       "    }\n",
       "</style>\n",
       "<table border=\"1\" class=\"dataframe\">\n",
       "  <thead>\n",
       "    <tr style=\"text-align: right;\">\n",
       "      <th></th>\n",
       "      <th>Question</th>\n",
       "      <th>Answer</th>\n",
       "    </tr>\n",
       "  </thead>\n",
       "  <tbody>\n",
       "    <tr>\n",
       "      <th>0</th>\n",
       "      <td>What is Jenkins?</td>\n",
       "      <td>Jenkins is a self-contained, open-source autom...</td>\n",
       "    </tr>\n",
       "    <tr>\n",
       "      <th>1</th>\n",
       "      <td>What should I refer to if I want to develop my...</td>\n",
       "      <td>If you want to extend the functionality of Jen...</td>\n",
       "    </tr>\n",
       "    <tr>\n",
       "      <th>2</th>\n",
       "      <td>What is the purpose of this Jenkins documentat...</td>\n",
       "      <td>The purpose of this documentation is to help u...</td>\n",
       "    </tr>\n",
       "    <tr>\n",
       "      <th>3</th>\n",
       "      <td>What is a good starting point for users who ha...</td>\n",
       "      <td>Users who have never used Jenkins or have limi...</td>\n",
       "    </tr>\n",
       "    <tr>\n",
       "      <th>4</th>\n",
       "      <td>Where can I find more detailed information abo...</td>\n",
       "      <td>For more detailed information about using Jenk...</td>\n",
       "    </tr>\n",
       "  </tbody>\n",
       "</table>\n",
       "</div>"
      ],
      "text/plain": [
       "                                            Question   \n",
       "0                                   What is Jenkins?  \\\n",
       "1  What should I refer to if I want to develop my...   \n",
       "2  What is the purpose of this Jenkins documentat...   \n",
       "3  What is a good starting point for users who ha...   \n",
       "4  Where can I find more detailed information abo...   \n",
       "\n",
       "                                              Answer  \n",
       "0  Jenkins is a self-contained, open-source autom...  \n",
       "1  If you want to extend the functionality of Jen...  \n",
       "2  The purpose of this documentation is to help u...  \n",
       "3  Users who have never used Jenkins or have limi...  \n",
       "4  For more detailed information about using Jenk...  "
      ]
     },
     "execution_count": 102,
     "metadata": {},
     "output_type": "execute_result"
    }
   ],
   "source": [
    "raw_data.head()"
   ]
  },
  {
   "cell_type": "code",
   "execution_count": 104,
   "metadata": {},
   "outputs": [
    {
     "name": "stdout",
     "output_type": "stream",
     "text": [
      "length of our dataset: 765\n"
     ]
    }
   ],
   "source": [
    "# Combine columns into the desired format\n",
    "df = pd.DataFrame(columns=['text'])\n",
    "\n",
    "df['text'] = raw_data.apply(\n",
    "    lambda row: f\"<s>[INST] {row[questions_col].strip()} [/INST] {row[answers_col]} </s>\",\n",
    "    axis=1\n",
    ")\n",
    "print(f'length of our dataset: {len(df)}')"
   ]
  },
  {
   "cell_type": "code",
   "execution_count": 5,
   "metadata": {},
   "outputs": [
    {
     "name": "stdout",
     "output_type": "stream",
     "text": [
      "The maximum row length is: 30508\n"
     ]
    }
   ],
   "source": [
    "# Calculate the length of each row\n",
    "df['row_length'] = df['text'].apply(len)\n",
    "\n",
    "# Find the maximum row length\n",
    "max_length = df['row_length'].max()\n",
    "print(f\"The maximum row length is: {max_length}\")"
   ]
  },
  {
   "cell_type": "code",
   "execution_count": 6,
   "metadata": {},
   "outputs": [
    {
     "data": {
      "image/png": "[encoded data removed]",
      "text/plain": [
       "<Figure size 640x480 with 1 Axes>"
      ]
     },
     "metadata": {},
     "output_type": "display_data"
    }
   ],
   "source": [
    "plot_histogram(df['row_length'])"
   ]
  },
  {
   "cell_type": "code",
   "execution_count": 7,
   "metadata": {},
   "outputs": [
    {
     "name": "stdout",
     "output_type": "stream",
     "text": [
      "3391\n"
     ]
    }
   ],
   "source": [
    "# Filter out rows with length more than max_sequence_length (i.e. 11000) to obtain just acceptable length of input\n",
    "df_filtered = df[df['row_length'] <= max_sequence_length]\n",
    "\n",
    "# Display the filtered DataFrame\n",
    "print(len(df_filtered))"
   ]
  },
  {
   "cell_type": "code",
   "execution_count": 8,
   "metadata": {},
   "outputs": [
    {
     "data": {
      "image/png": "[encoded data removed]",
      "text/plain": [
       "<Figure size 640x480 with 1 Axes>"
      ]
     },
     "metadata": {},
     "output_type": "display_data"
    }
   ],
   "source": [
    "plot_histogram(df_filtered['row_length'])"
   ]
  },
  {
   "cell_type": "code",
   "execution_count": 9,
   "metadata": {},
   "outputs": [],
   "source": [
    "# drop un needed columns\n",
    "df_filtered = df_filtered.drop(['row_length'], axis=1)"
   ]
  },
  {
   "cell_type": "code",
   "execution_count": 10,
   "metadata": {},
   "outputs": [],
   "source": [
    "# convert to dataset and select num_samples (i.e. 1000) record for now (considering memory resource)\n",
    "dataset = Dataset.from_pandas(df_filtered)\n",
    "\n",
    "if num_samples: \n",
    "  dataset = dataset.select(range(num_samples))"
   ]
  },
  {
   "cell_type": "code",
   "execution_count": 11,
   "metadata": {},
   "outputs": [
    {
     "data": {
      "text/plain": [
       "Dataset({\n",
       "    features: ['text', '__index_level_0__'],\n",
       "    num_rows: 1000\n",
       "})"
      ]
     },
     "execution_count": 11,
     "metadata": {},
     "output_type": "execute_result"
    }
   ],
   "source": [
    "dataset"
   ]
  },
  {
   "cell_type": "code",
   "execution_count": null,
   "metadata": {},
   "outputs": [],
   "source": []
  }
 ],
 "metadata": {
  "kernelspec": {
   "display_name": "Python 3",
   "language": "python",
   "name": "python3"
  },
  "language_info": {
   "codemirror_mode": {
    "name": "ipython",
    "version": 3
   },
   "file_extension": ".py",
   "mimetype": "text/x-python",
   "name": "python",
   "nbconvert_exporter": "python",
   "pygments_lexer": "ipython3",
   "version": "3.11.3"
  }
 },
 "nbformat": 4,
 "nbformat_minor": 2
}
