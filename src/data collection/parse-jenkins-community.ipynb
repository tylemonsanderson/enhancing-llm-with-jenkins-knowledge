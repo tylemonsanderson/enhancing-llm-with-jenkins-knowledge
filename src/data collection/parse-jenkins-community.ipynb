{
 "cells": [
  {
   "cell_type": "code",
   "execution_count": 35,
   "metadata": {},
   "outputs": [],
   "source": [
    "import requests\n",
    "import numpy as np\n",
    "from utils import *"
   ]
  },
  {
   "cell_type": "code",
   "execution_count": 36,
   "metadata": {},
   "outputs": [],
   "source": [
    "topics_list = []\n",
    "number_of_pages = 100\n",
    "URLs = [\n",
    "    \"https://community.jenkins.io/c/using-jenkins/support/8.json\"\n",
    "]\n",
    "\n",
    "for page in URLs:\n",
    "    \n",
    "    for page_num in range(number_of_pages):   \n",
    "             \n",
    "        # URL to make the GET request to\n",
    "        url = f\"{page}?page={page_num}\"\n",
    "\n",
    "        # Make the GET request\n",
    "        response = requests.get(url)\n",
    "\n",
    "        if response.status_code == 200:\n",
    "            # Parse the JSON response into a Python dictionary\n",
    "            json_response = response.json()\n",
    "            \n",
    "            \n",
    "            # Extract posts from the JSON object\n",
    "            topics = json_response[\"topic_list\"][\"topics\"]\n",
    "            # print(page_num, len(topics))\n",
    "            \n",
    "            # Find the post with accepted_answer = true\n",
    "            for topic in topics:\n",
    "                if topic.get(\"has_accepted_answer\"):\n",
    "                    topics_list.append(topic)\n",
    "\n",
    "        else:\n",
    "            # Print an error message if the request was not successful\n",
    "            print(\"Error:\", response.status_code)\n"
   ]
  },
  {
   "cell_type": "code",
   "execution_count": 37,
   "metadata": {},
   "outputs": [
    {
     "name": "stdout",
     "output_type": "stream",
     "text": [
      "344\n"
     ]
    }
   ],
   "source": [
    "print(len(topics_list))"
   ]
  },
  {
   "cell_type": "code",
   "execution_count": 38,
   "metadata": {},
   "outputs": [],
   "source": [
    "# Get the topics IDs\n",
    "topics_ids = [topic[\"id\"] for topic in topics_list]"
   ]
  },
  {
   "cell_type": "code",
   "execution_count": 39,
   "metadata": {},
   "outputs": [
    {
     "name": "stdout",
     "output_type": "stream",
     "text": [
      "No accepted answer found for topic 11272\n"
     ]
    }
   ],
   "source": [
    "accepted_answers = []\n",
    "original_questions = []\n",
    "\n",
    "for topic_id in topics_ids:\n",
    "    \n",
    "    # URL to make the GET request to\n",
    "    url = f\"https://community.jenkins.io/t/{topic_id}.json?track_visit=true&forceLoad=true\"\n",
    "\n",
    "    # Make the GET request\n",
    "    response = requests.get(url)\n",
    "\n",
    "    if response.status_code == 200:\n",
    "        # Parse the JSON response into a Python dictionary\n",
    "        json_response = response.json()\n",
    "        \n",
    "        \n",
    "        # Extract posts from the JSON object\n",
    "        posts = json_response[\"post_stream\"][\"posts\"]\n",
    "        # print(posts)\n",
    "        \n",
    "        # Find the post with accepted_answer = true\n",
    "        for post in posts:\n",
    "            if post.get(\"accepted_answer\"):\n",
    "                original_questions.append(posts[0]['cooked'])\n",
    "                accepted_answers.append(post['cooked'])\n",
    "                break\n",
    "        else:\n",
    "            print(f\"No accepted answer found for topic {topic_id}\")\n",
    "\n",
    "    else:\n",
    "        # Print an error message if the request was not successful\n",
    "        print(\"Error:\", response.status_code)\n"
   ]
  },
  {
   "cell_type": "code",
   "execution_count": 40,
   "metadata": {},
   "outputs": [
    {
     "name": "stdout",
     "output_type": "stream",
     "text": [
      "343 343\n"
     ]
    }
   ],
   "source": [
    "print(len(original_questions), len(accepted_answers))"
   ]
  },
  {
   "cell_type": "code",
   "execution_count": 41,
   "metadata": {},
   "outputs": [
    {
     "name": "stdout",
     "output_type": "stream",
     "text": [
      "<p>Jenkins Controller Version: 2.401.2 LTS</p>\n",
      "<p>We have a Jenkins controller installed and configured using the official Jenkins Helm chart on an EKS cluster, with all resource provisioning managed by Terraform.</p>\n",
      "<p>Currently, it is functioning well and is accessible at <a href=\"https://jenkins-utility.example.com/\" rel=\"noopener nofollow ugc\">https://jenkins-utility.example.com/</a> using our LDAP credentials. All agent nodes connect to same jenkins endpoint.</p>\n",
      "<p>However, when the Jenkins controller is restarted either via the URL using safe restart or due to the pod being killed/restarted, I can still access Jenkins using the same URL. Despite this, all agent nodes get disconnected because the Jenkins location URL resets to localhost:8080 instead of <a href=\"https://jenkins-utility.example.com/\" rel=\"noopener nofollow ugc\">https://jenkins-utility.example.com/</a>. Please see the attached image for reference.</p>\n",
      "<p>Below is the Jenkins Configuration as Code (CasC) configuration we are using:</p>\n",
      "<pre><code class=\"lang-auto\">jenkins:\n",
      "  authorizationStrategy:\n",
      "    projectMatrix:\n",
      "      entries:\n",
      "        - group:\n",
      "            name: \"authenticated\"\n",
      "            permissions:\n",
      "              - \"Agent/Configure\"\n",
      "              - \"Agent/Connect\"\n",
      "              - \"Agent/Create\"\n",
      "              - \"Agent/Delete\"\n",
      "              - \"Agent/Disconnect\"\n",
      "              - \"Credentials/View\"\n",
      "              - \"Job/Build\"\n",
      "              - \"Job/Cancel\"\n",
      "              - \"Job/Configure\"\n",
      "              - \"Job/Create\"\n",
      "              - \"Job/Delete\"\n",
      "              - \"Job/Discover\"\n",
      "              - \"Job/Move\"\n",
      "              - \"Job/Read\"\n",
      "              - \"Job/Workspace\"\n",
      "              - \"Overall/Read\"\n",
      "              - \"Overall/SystemRead\"\n",
      "              - \"Run/Replay\"\n",
      "              - \"View/Configure\"\n",
      "              - \"View/Create\"\n",
      "              - \"View/Delete\"\n",
      "              - \"View/Read\"\n",
      "        - group:\n",
      "            name: \"jenkins-admins\"\n",
      "            permissions:\n",
      "              - \"Overall/Administer\"\n",
      "        - user:\n",
      "            name: \"anonymous\"\n",
      "            permissions:\n",
      "              - \"Job/Discover\"\n",
      "              - \"Job/ViewStatus\"\n",
      "              - \"Overall/Read\"\n",
      "        - user:\n",
      "            name: \"altif@example.com\"\n",
      "            permissions:\n",
      "              - \"Overall/Administer\"\n",
      "  securityRealm:\n",
      "    activeDirectory:\n",
      "      bindPassword: \"xxxxxxxx\"\n",
      "      cache:\n",
      "        size: 1000\n",
      "        ttl: 3600\n",
      "      customDomain: true\n",
      "      domains:\n",
      "        - bindPassword: \"xxxxxxxx\"\n",
      "          name: \"cor.example.com\"\n",
      "          servers: \"ldap.example.com:3268\"\n",
      "          tlsConfiguration: TRUST_ALL_CERTIFICATES\n",
      "      groupLookupStrategy: TOKENGROUPS\n",
      "      removeIrrelevantGroups: false\n",
      "      requireTLS: false\n",
      "      startTls: true\n",
      "  disableRememberMe: false\n",
      "  mode: NORMAL\n",
      "  numExecutors: 2\n",
      "  labelString: \"controller\"\n",
      "  projectNamingStrategy: \"standard\"\n",
      "  markupFormatter:\n",
      "    plainText\n",
      "  clouds:\n",
      "  - kubernetes:\n",
      "      containerCapStr: \"10\"\n",
      "      defaultsProviderTemplate: \"\"\n",
      "      connectTimeout: \"5\"\n",
      "      readTimeout: \"15\"\n",
      "      jenkinsUrl: \"http://jenkins-utility-prod.jenkins-utility-prod.svc.cluster.local:8080\"\n",
      "      jenkinsTunnel: \"jenkins-utility-prod-agent.jenkins-utility-prod.svc.cluster.local:50000\"\n",
      "      maxRequestsPerHostStr: \"32\"\n",
      "      name: \"kubernetes\"\n",
      "      namespace: \"jenkins-utility-prod\"\n",
      "      serverUrl: \"https://kubernetes.default\"\n",
      "  crumbIssuer:\n",
      "    standard:\n",
      "      excludeClientIPFromCrumb: false\n",
      "security:\n",
      "  apiToken:\n",
      "    creationOfLegacyTokenEnabled: false\n",
      "    tokenGenerationOnCreationEnabled: false\n",
      "    usageStatisticsEnabled: true\n",
      "unclassified:\n",
      "  location:\n",
      "    adminAddress: devops@example.com\n",
      "    url: https://jenkins-utility.example.com/\n",
      "</code></pre>\n",
      "<p>I have spent many hours troubleshooting this issue but have not found a solution yet. Any assistance or references to resolve this issue would be greatly appreciated.</p>\n",
      "<p>Thanks.<br>\n",
      "<div class=\"lightbox-wrapper\"><a class=\"lightbox\" href=\"https://europe1.discourse-cdn.com/business20/uploads/jenkins/original/2X/a/a1ab56b799ab164de997ac3b3c400ad8591f27ce.png\" data-download-href=\"/uploads/short-url/n4bXML7RbLOODSpwUjco8xMzcR0.png?dl=1\" title=\"Screenshot 2024-06-05 at 11.35.28 PM\" rel=\"noopener nofollow ugc\"><img src=\"https://europe1.discourse-cdn.com/business20/uploads/jenkins/optimized/2X/a/a1ab56b799ab164de997ac3b3c400ad8591f27ce_2_690x240.png\" alt=\"Screenshot 2024-06-05 at 11.35.28 PM\" data-base62-sha1=\"n4bXML7RbLOODSpwUjco8xMzcR0\" width=\"690\" height=\"240\" srcset=\"https://europe1.discourse-cdn.com/business20/uploads/jenkins/optimized/2X/a/a1ab56b799ab164de997ac3b3c400ad8591f27ce_2_690x240.png, https://europe1.discourse-cdn.com/business20/uploads/jenkins/optimized/2X/a/a1ab56b799ab164de997ac3b3c400ad8591f27ce_2_1035x360.png 1.5x, https://europe1.discourse-cdn.com/business20/uploads/jenkins/optimized/2X/a/a1ab56b799ab164de997ac3b3c400ad8591f27ce_2_1380x480.png 2x\" data-dominant-color=\"E9EAEB\"><div class=\"meta\"><svg class=\"fa d-icon d-icon-far-image svg-icon\" aria-hidden=\"true\"><use href=\"#far-image\"></use></svg><span class=\"filename\">Screenshot 2024-06-05 at 11.35.28 PM</span><span class=\"informations\">1748×608 35.8 KB</span><svg class=\"fa d-icon d-icon-discourse-expand svg-icon\" aria-hidden=\"true\"><use href=\"#discourse-expand\"></use></svg></div></a></div></p> <p>Thank you <a class=\"mention\" href=\"/u/mawinter69\">@mawinter69</a> <a class=\"mention\" href=\"/u/poddingue\">@poddingue</a> for your prompt responses and willingness to assist, much appreciated!</p>\n",
      "<p>Although, the initial suggestions didn’t resolve my issue, I continued my investigation. After exploring and digging  <code>JENKINS_HOME</code> i.e. <code>/var/jenkins_home</code>, I noticed the <code>init.groovy.d</code> directory, I discovered groovy script named <code>base.groovy</code> that was resetting the Jenkins Location URL to localhost:8080. By modifying this script, I was able to set the correct base URL, and now everything works as expected.</p>\n",
      "<p>Thank you all for your support!</p>\n"
     ]
    }
   ],
   "source": [
    "print(original_questions[0], accepted_answers[0])"
   ]
  },
  {
   "cell_type": "code",
   "execution_count": 33,
   "metadata": {},
   "outputs": [],
   "source": [
    "combined_arrays = np.column_stack((original_questions, accepted_answers))\n",
    "\n",
    "df = pd.DataFrame(combined_arrays, columns=['questions', 'answers'])\n",
    "\n",
    "df['questions'] = df['questions'].apply(remove_html_tags)\n",
    "df['answers'] = df['answers'].apply(remove_html_tags)"
   ]
  },
  {
   "cell_type": "code",
   "execution_count": 34,
   "metadata": {},
   "outputs": [],
   "source": [
    "df.to_csv('../datasets/Community Questions Refined.csv', index=False, encoding='utf-8', date_format=str)"
   ]
  },
  {
   "cell_type": "code",
   "execution_count": 18,
   "metadata": {},
   "outputs": [
    {
     "name": "stdout",
     "output_type": "stream",
     "text": [
      "CSV file with arrays saved as 'special_characters.csv'\n"
     ]
    }
   ],
   "source": [
    "# import csv\n",
    "\n",
    "# rows = list(zip(original_questions, accepted_answers))\n",
    "\n",
    "# with open('Community Questions.csv', 'w', newline='', encoding='utf-8') as csvfile:\n",
    "#     writer = csv.writer(csvfile)\n",
    "#     writer.writerow(['Question', 'Answer'])  # Write header\n",
    "    \n",
    "#     for row in rows:\n",
    "#         writer.writerow(row)\n",
    "\n",
    "# print(\"CSV file with arrays saved as 'special_characters.csv'\")\n"
   ]
  },
  {
   "cell_type": "code",
   "execution_count": 53,
   "metadata": {},
   "outputs": [],
   "source": [
    "# import json\n",
    "# # Write posts data to a JSON file\n",
    "# with open(\"show.json\", \"w\") as json_file:\n",
    "#     json.dump(posts, json_file, indent=4)"
   ]
  },
  {
   "cell_type": "code",
   "execution_count": 54,
   "metadata": {},
   "outputs": [],
   "source": [
    "# accepted_answers[0]"
   ]
  },
  {
   "cell_type": "code",
   "execution_count": null,
   "metadata": {},
   "outputs": [],
   "source": []
  }
 ],
 "metadata": {
  "kernelspec": {
   "display_name": "base",
   "language": "python",
   "name": "python3"
  },
  "language_info": {
   "codemirror_mode": {
    "name": "ipython",
    "version": 3
   },
   "file_extension": ".py",
   "mimetype": "text/x-python",
   "name": "python",
   "nbconvert_exporter": "python",
   "pygments_lexer": "ipython3",
   "version": "3.11.3"
  }
 },
 "nbformat": 4,
 "nbformat_minor": 2
}
