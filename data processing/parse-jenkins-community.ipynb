{
 "cells": [
  {
   "cell_type": "code",
   "execution_count": 27,
   "metadata": {},
   "outputs": [],
   "source": [
    "import requests\n",
    "import numpy as np\n",
    "from utils import *"
   ]
  },
  {
   "cell_type": "code",
   "execution_count": 28,
   "metadata": {},
   "outputs": [],
   "source": [
    "topics_list = []\n",
    "number_of_pages = 100\n",
    "URLs = [\n",
    "    \"https://community.jenkins.io/c/using-jenkins/support/8.json\"\n",
    "]\n",
    "\n",
    "for page in URLs:\n",
    "    \n",
    "    for page_num in range(number_of_pages):   \n",
    "             \n",
    "        # URL to make the GET request to\n",
    "        url = f\"{page}?page={page_num}\"\n",
    "\n",
    "        # Make the GET request\n",
    "        response = requests.get(url)\n",
    "\n",
    "        if response.status_code == 200:\n",
    "            # Parse the JSON response into a Python dictionary\n",
    "            json_response = response.json()\n",
    "            \n",
    "            \n",
    "            # Extract posts from the JSON object\n",
    "            topics = json_response[\"topic_list\"][\"topics\"]\n",
    "            # print(page_num, len(topics))\n",
    "            \n",
    "            # Find the post with accepted_answer = true\n",
    "            for topic in topics:\n",
    "                if topic.get(\"has_accepted_answer\"):\n",
    "                    topics_list.append(topic)\n",
    "\n",
    "        else:\n",
    "            # Print an error message if the request was not successful\n",
    "            print(\"Error:\", response.status_code)\n"
   ]
  },
  {
   "cell_type": "code",
   "execution_count": 29,
   "metadata": {},
   "outputs": [
    {
     "name": "stdout",
     "output_type": "stream",
     "text": [
      "344\n"
     ]
    }
   ],
   "source": [
    "print(len(topics_list))"
   ]
  },
  {
   "cell_type": "code",
   "execution_count": 30,
   "metadata": {},
   "outputs": [],
   "source": [
    "# Get the topics IDs\n",
    "topics_ids = [topic[\"id\"] for topic in topics_list]"
   ]
  },
  {
   "cell_type": "code",
   "execution_count": 31,
   "metadata": {},
   "outputs": [
    {
     "name": "stdout",
     "output_type": "stream",
     "text": [
      "No accepted answer found for topic 11272\n"
     ]
    }
   ],
   "source": [
    "accepted_answers = []\n",
    "original_questions = []\n",
    "\n",
    "for topic_id in topics_ids:\n",
    "    \n",
    "    # URL to make the GET request to\n",
    "    url = f\"https://community.jenkins.io/t/{topic_id}.json?track_visit=true&forceLoad=true\"\n",
    "\n",
    "    # Make the GET request\n",
    "    response = requests.get(url)\n",
    "\n",
    "    if response.status_code == 200:\n",
    "        # Parse the JSON response into a Python dictionary\n",
    "        json_response = response.json()\n",
    "        \n",
    "        \n",
    "        # Extract posts from the JSON object\n",
    "        posts = json_response[\"post_stream\"][\"posts\"]\n",
    "        # print(posts)\n",
    "        \n",
    "        # Find the post with accepted_answer = true\n",
    "        for post in posts:\n",
    "            if post.get(\"accepted_answer\"):\n",
    "                original_questions.append(posts[0]['cooked'])\n",
    "                accepted_answers.append(post['cooked'])\n",
    "                break\n",
    "        else:\n",
    "            print(f\"No accepted answer found for topic {topic_id}\")\n",
    "\n",
    "    else:\n",
    "        # Print an error message if the request was not successful\n",
    "        print(\"Error:\", response.status_code)\n"
   ]
  },
  {
   "cell_type": "code",
   "execution_count": 32,
   "metadata": {},
   "outputs": [
    {
     "name": "stdout",
     "output_type": "stream",
     "text": [
      "343 343\n"
     ]
    }
   ],
   "source": [
    "print(len(original_questions), len(accepted_answers))"
   ]
  },
  {
   "cell_type": "code",
   "execution_count": 33,
   "metadata": {},
   "outputs": [],
   "source": [
    "combined_arrays = np.column_stack((original_questions, accepted_answers))\n",
    "\n",
    "df = pd.DataFrame(combined_arrays, columns=['questions', 'answers'])\n",
    "\n",
    "df['questions'] = df['questions'].apply(remove_html_tags)\n",
    "df['answers'] = df['answers'].apply(remove_html_tags)"
   ]
  },
  {
   "cell_type": "code",
   "execution_count": 34,
   "metadata": {},
   "outputs": [],
   "source": [
    "df.to_csv('../datasets/Community Questions Refined.csv', index=False, encoding='utf-8', date_format=str)"
   ]
  },
  {
   "cell_type": "code",
   "execution_count": 18,
   "metadata": {},
   "outputs": [
    {
     "name": "stdout",
     "output_type": "stream",
     "text": [
      "CSV file with arrays saved as 'special_characters.csv'\n"
     ]
    }
   ],
   "source": [
    "# import csv\n",
    "\n",
    "# rows = list(zip(original_questions, accepted_answers))\n",
    "\n",
    "# with open('Community Questions.csv', 'w', newline='', encoding='utf-8') as csvfile:\n",
    "#     writer = csv.writer(csvfile)\n",
    "#     writer.writerow(['Question', 'Answer'])  # Write header\n",
    "    \n",
    "#     for row in rows:\n",
    "#         writer.writerow(row)\n",
    "\n",
    "# print(\"CSV file with arrays saved as 'special_characters.csv'\")\n"
   ]
  },
  {
   "cell_type": "code",
   "execution_count": 53,
   "metadata": {},
   "outputs": [],
   "source": [
    "# import json\n",
    "# # Write posts data to a JSON file\n",
    "# with open(\"show.json\", \"w\") as json_file:\n",
    "#     json.dump(posts, json_file, indent=4)"
   ]
  },
  {
   "cell_type": "code",
   "execution_count": 54,
   "metadata": {},
   "outputs": [],
   "source": [
    "# accepted_answers[0]"
   ]
  },
  {
   "cell_type": "code",
   "execution_count": null,
   "metadata": {},
   "outputs": [],
   "source": []
  }
 ],
 "metadata": {
  "kernelspec": {
   "display_name": "base",
   "language": "python",
   "name": "python3"
  },
  "language_info": {
   "codemirror_mode": {
    "name": "ipython",
    "version": 3
   },
   "file_extension": ".py",
   "mimetype": "text/x-python",
   "name": "python",
   "nbconvert_exporter": "python",
   "pygments_lexer": "ipython3",
   "version": "3.11.3"
  }
 },
 "nbformat": 4,
 "nbformat_minor": 2
}
