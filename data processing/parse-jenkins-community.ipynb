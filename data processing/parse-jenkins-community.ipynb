{
 "cells": [
  {
   "cell_type": "code",
   "execution_count": 43,
   "metadata": {},
   "outputs": [
    {
     "name": "stdout",
     "output_type": "stream",
     "text": [
      "1964\n"
     ]
    }
   ],
   "source": [
    "from bs4 import BeautifulSoup\n",
    "\n",
    "with open(\"jenkins-questions.txt\", \"r\", encoding=\"utf-8\") as file:\n",
    "    html_content = file.read()\n",
    "\n",
    "# Parse the HTML content\n",
    "soup = BeautifulSoup(html_content, \"html.parser\")\n",
    "\n",
    "# Find the <tr> elements \n",
    "relevant_tr_element = soup.find_all(\"tr\")\n",
    "\n",
    "print(len(relevant_tr_element))\n"
   ]
  },
  {
   "cell_type": "code",
   "execution_count": 44,
   "metadata": {},
   "outputs": [
    {
     "name": "stdout",
     "output_type": "stream",
     "text": [
      "342\n"
     ]
    }
   ],
   "source": [
    "has_solutions = []\n",
    "\n",
    "for tr in relevant_tr_element:\n",
    "    if(str(tr).find(\"This topic has a solution\") > -1):\n",
    "        has_solutions.append(tr)\n",
    "        \n",
    "print(len(has_solutions))"
   ]
  },
  {
   "cell_type": "code",
   "execution_count": 45,
   "metadata": {},
   "outputs": [],
   "source": [
    "# Extract all <tr> elements in txt file\n",
    "file_path = \"output.txt\"\n",
    "\n",
    "with open(file_path, \"w\") as file:\n",
    "    for item in has_solutions:\n",
    "        file.write(str(item) + \"\\n\")"
   ]
  },
  {
   "cell_type": "code",
   "execution_count": 46,
   "metadata": {},
   "outputs": [],
   "source": [
    "# Get the topics IDs\n",
    "topics_ids = [tr[\"data-topic-id\"] for tr in has_solutions]"
   ]
  },
  {
   "cell_type": "code",
   "execution_count": 57,
   "metadata": {},
   "outputs": [
    {
     "name": "stdout",
     "output_type": "stream",
     "text": [
      "No accepted answer found for topic 11272\n"
     ]
    }
   ],
   "source": [
    "import requests\n",
    "accepted_answers = []\n",
    "original_questions = []\n",
    "\n",
    "for topic_id in topics_ids:\n",
    "    \n",
    "    # URL to make the GET request to\n",
    "    url = f\"https://community.jenkins.io/t/{topic_id}.json?track_visit=true&forceLoad=true\"\n",
    "\n",
    "    # Make the GET request\n",
    "    response = requests.get(url)\n",
    "\n",
    "    if response.status_code == 200:\n",
    "        # Parse the JSON response into a Python dictionary\n",
    "        json_response = response.json()\n",
    "        \n",
    "        \n",
    "        # Extract posts from the JSON object\n",
    "        posts = json_response[\"post_stream\"][\"posts\"]\n",
    "        # print(posts)\n",
    "        \n",
    "        # Find the post with accepted_answer = true\n",
    "        for post in posts:\n",
    "            if post.get(\"accepted_answer\"):\n",
    "                original_questions.append(posts[0]['cooked'])\n",
    "                accepted_answers.append(post['cooked'])\n",
    "                break\n",
    "        else:\n",
    "            print(f\"No accepted answer found for topic {topic_id}\")\n",
    "\n",
    "    else:\n",
    "        # Print an error message if the request was not successful\n",
    "        print(\"Error:\", response.status_code)\n"
   ]
  },
  {
   "cell_type": "code",
   "execution_count": 58,
   "metadata": {},
   "outputs": [
    {
     "name": "stdout",
     "output_type": "stream",
     "text": [
      "341 341\n"
     ]
    }
   ],
   "source": [
    "print(len(original_questions), len(accepted_answers))"
   ]
  },
  {
   "cell_type": "code",
   "execution_count": 62,
   "metadata": {},
   "outputs": [
    {
     "data": {
      "text/plain": [
       "'<p>I use it to run autotests using python (pytest) - I customized the Freestyle project<br>\\nhowever, after launching, at a random moment, the job freezes, Jenkins reboots - after which the running build disappears from the list<br>\\nI don’t know where to look for the problem anymore<br>\\nI tried a complete reinstallation of the server and Jenkins itself<br>\\nEven with a minimal set of plugins<br>\\nHelp please</p>\\n<p>I’m new to Jenkins setup - if any additional information is needed - can provide if you tell me where to look</p>\\n<hr>\\n<h2><a name=\"jenkins-setup-1\" class=\"anchor\" href=\"#jenkins-setup-1\"></a>Jenkins setup:</h2>\\n<p>Jenkins: 2.452.1<br>\\nOS: Linux - 6.8.0-31-generic<br>\\nJava: 11.0.23 - Ubuntu (OpenJDK 64-Bit Server VM)<br>\\nJenkins installed by instructions - <a href=\"https://www.digitalocean.com/community/tutorials/how-to-install-jenkins-on-ubuntu-22-04\" class=\"inline-onebox\" rel=\"noopener nofollow ugc\">How To Install Jenkins on Ubuntu 22.04 | DigitalOcean</a><br>\\nRunning Jenkins service in default port - 8080</p>\\n<pre><code class=\"lang-auto\">\\nant: 497.v94e7d9fffa_b_9\\nantisamy-markup-formatter: 162.v0e6ec0fcfcf6\\napache-httpcomponents-client-4-api: 4.5.14-208.v438351942757\\nasm-api: 9.7-33.v4d23ef79fcc8\\nbootstrap5-api: 5.3.3-1\\nbouncycastle-api: 2.30.1.77-225.v26ea_c9455fd9\\nbranch-api: 2.1169.va_f810c56e895\\nbuild-timeout: 1.32\\ncaffeine-api: 3.1.8-133.v17b_1ff2e0599\\nchecks-api: 2.2.0\\ncloudbees-folder: 6.928.v7c780211d66e\\ncommons-lang3-api: 3.13.0-62.v7d18e55f51e2\\ncommons-text-api: 1.11.0-109.vfe16c66636eb_\\ncredentials: 1337.v60b_d7b_c7b_c9f\\ncredentials-binding: 677.vdc9d38cb_254d\\ndark-theme: 439.vdef09f81f85e\\ndisplay-url-api: 2.204.vf6fddd8a_8b_e9\\ndurable-task: 555.v6802fe0f0b_82\\necharts-api: 5.5.0-1\\nemail-ext: 1814.v404722f34263\\nfont-awesome-api: 6.5.2-1\\ngit: 5.2.2\\ngit-client: 4.7.0\\ngithub: 1.39.0\\ngithub-api: 1.318-461.v7a_c09c9fa_d63\\ngithub-branch-source: 1789.v5b_0c0cea_18c3\\ngradle: 2.12\\ngson-api:2.10.1-15.v0d99f670e0a_7\\ninstance-identity:185.v303dc7c645f9\\nionicons-api:74.v93d5eb_813d5f\\njackson2-api:2.17.0-379.v02de8ec9f64c\\njakarta-activation-api:2.1.3-1\\njakarta-mail-api:2.1.3-1\\njavax-activation-api:1.2.0-6\\njavax-mail-api:1.6.2-9\\njaxb:2.3.9-1\\njjwt-api:0.11.5-112.ve82dfb_224b_a_d\\njoda-time-api:2.12.7-29.v5a_b_e3a_82269a_\\njquery3-api:3.7.1-2\\njson-api:20240303-41.v94e11e6de726\\njson-path-api:2.9.0-58.v62e3e85b_a_655\\njunit:1265.v65b_14fa_f12f0\\nldap:725.v3cb_b_711b_1a_ef\\nmailer:472.vf7c289a_4b_420\\nmatrix-auth:3.2.2\\nmatrix-project:822.824.v14451b_c0fd42\\nmetrics:4.2.21-449.v6960d7c54c69\\nmina-sshd-api-common:2.12.1-101.v85b_e08b_780dd\\nmina-sshd-api-core:2.12.1-101.v85b_e08b_780dd\\nokhttp-api:4.11.0-172.vda_da_1feeb_c6e\\npam-auth:1.10\\npipeline-build-step:540.vb_e8849e1a_b_d8\\npipeline-github-lib:42.v0739460cda_c4\\npipeline-graph-analysis:216.vfd8b_ece330ca_\\npipeline-graph-view:287.v3ef017b_780d5\\npipeline-groovy-lib:710.v4b_94b_077a_808\\npipeline-input-step:495.ve9c153f6067b_\\npipeline-milestone-step:119.vdfdc43fc3b_9a_\\npipeline-model-api:2.2198.v41dd8ef6dd56\\npipeline-model-definition:2.2198.v41dd8ef6dd56\\npipeline-model-extensions:2.2198.v41dd8ef6dd56\\npipeline-stage-step:312.v8cd10304c27a_\\npipeline-stage-tags-metadata:2.2198.v41dd8ef6dd56\\nplain-credentials:182.v468b_97b_9dcb_8\\nplugin-util-api:4.1.0\\nresource-disposer:0.23\\nscm-api:690.vfc8b_54395023\\nscript-security:1336.vf33a_a_9863911\\nsnakeyaml-api:2.2-111.vc6598e30cc65\\nssh-credentials:337.v395d2403ccd4\\nssh-slaves:2.948.vb_8050d697fec\\nstructs:337.v1b_04ea_4df7c8\\ntheme-manager:215.vc1ff18d67920\\ntimestamper:1.27\\ntoken-macro:400.v35420b_922dcb_\\ntrilead-api:2.142.v748523a_76693\\nvariant:60.v7290fc0eb_b_cd\\nworkflow-aggregator:596.v8c21c963d92d\\nworkflow-api:1311.v4250456a_e552\\nworkflow-basic-steps:1058.vcb_fc1e3a_21a_9\\nworkflow-cps:3894.3896.vca_2c931e7935\\nworkflow-durable-task-step:1353.v1891a_b_01da_18\\nworkflow-job:1400.v7fd111b_ec82f\\nworkflow-multibranch:783.va_6eb_ef636fb_d\\nworkflow-scm-step:427.v4ca_6512e7df1\\nworkflow-step-api:657.v03b_e8115821b_\\nworkflow-support:907.v6713a_ed8a_573\\nws-cleanup:0.45\\n</code></pre>\\n<p><div class=\"lightbox-wrapper\"><a class=\"lightbox\" href=\"https://europe1.discourse-cdn.com/business20/uploads/jenkins/original/2X/f/f519e4c1cc00feec42e57def6793dccf91c229ad.jpeg\" data-download-href=\"/uploads/short-url/yYgskIO3jkM5UeeLQt5nJuU789n.jpeg?dl=1\" title=\"image\" rel=\"noopener nofollow ugc\"><img src=\"https://europe1.discourse-cdn.com/business20/uploads/jenkins/optimized/2X/f/f519e4c1cc00feec42e57def6793dccf91c229ad_2_690x155.jpeg\" alt=\"image\" data-base62-sha1=\"yYgskIO3jkM5UeeLQt5nJuU789n\" width=\"690\" height=\"155\" srcset=\"https://europe1.discourse-cdn.com/business20/uploads/jenkins/optimized/2X/f/f519e4c1cc00feec42e57def6793dccf91c229ad_2_690x155.jpeg, https://europe1.discourse-cdn.com/business20/uploads/jenkins/optimized/2X/f/f519e4c1cc00feec42e57def6793dccf91c229ad_2_1035x232.jpeg 1.5x, https://europe1.discourse-cdn.com/business20/uploads/jenkins/optimized/2X/f/f519e4c1cc00feec42e57def6793dccf91c229ad_2_1380x310.jpeg 2x\" data-dominant-color=\"122111\"><div class=\"meta\"><svg class=\"fa d-icon d-icon-far-image svg-icon\" aria-hidden=\"true\"><use href=\"#far-image\"></use></svg><span class=\"filename\">image</span><span class=\"informations\">1920×434 145 KB</span><svg class=\"fa d-icon d-icon-discourse-expand svg-icon\" aria-hidden=\"true\"><use href=\"#discourse-expand\"></use></svg></div></a></div></p>'"
      ]
     },
     "execution_count": 62,
     "metadata": {},
     "output_type": "execute_result"
    }
   ],
   "source": [
    "original_questions[0]"
   ]
  },
  {
   "cell_type": "code",
   "execution_count": 67,
   "metadata": {},
   "outputs": [],
   "source": [
    "import numpy as np\n",
    "import pandas as pd\n",
    "\n",
    "combined_arrays = np.column_stack((original_questions, accepted_answers))\n",
    "\n",
    "df = pd.DataFrame(combined_arrays, columns=['questions', 'answers'])\n",
    "\n",
    "df.to_csv('Community Questions.csv', index=False, encoding='utf-8', date_format=str)"
   ]
  },
  {
   "cell_type": "code",
   "execution_count": 69,
   "metadata": {},
   "outputs": [
    {
     "name": "stdout",
     "output_type": "stream",
     "text": [
      "CSV file with arrays saved as 'special_characters.csv'\n"
     ]
    }
   ],
   "source": [
    "import csv\n",
    "\n",
    "rows = list(zip(original_questions, accepted_answers))\n",
    "\n",
    "with open('Community Questions.csv', 'w', newline='', encoding='utf-8') as csvfile:\n",
    "    writer = csv.writer(csvfile)\n",
    "    writer.writerow(['Question', 'Answer'])  # Write header\n",
    "    \n",
    "    for row in rows:\n",
    "        writer.writerow(row)\n",
    "\n",
    "print(\"CSV file with arrays saved as 'special_characters.csv'\")\n"
   ]
  },
  {
   "cell_type": "code",
   "execution_count": 53,
   "metadata": {},
   "outputs": [],
   "source": [
    "# import json\n",
    "# # Write posts data to a JSON file\n",
    "# with open(\"show.json\", \"w\") as json_file:\n",
    "#     json.dump(posts, json_file, indent=4)"
   ]
  },
  {
   "cell_type": "code",
   "execution_count": 54,
   "metadata": {},
   "outputs": [],
   "source": [
    "# accepted_answers[0]"
   ]
  },
  {
   "cell_type": "code",
   "execution_count": null,
   "metadata": {},
   "outputs": [],
   "source": []
  }
 ],
 "metadata": {
  "kernelspec": {
   "display_name": "base",
   "language": "python",
   "name": "python3"
  },
  "language_info": {
   "codemirror_mode": {
    "name": "ipython",
    "version": 3
   },
   "file_extension": ".py",
   "mimetype": "text/x-python",
   "name": "python",
   "nbconvert_exporter": "python",
   "pygments_lexer": "ipython3",
   "version": "3.9.12"
  }
 },
 "nbformat": 4,
 "nbformat_minor": 2
}
