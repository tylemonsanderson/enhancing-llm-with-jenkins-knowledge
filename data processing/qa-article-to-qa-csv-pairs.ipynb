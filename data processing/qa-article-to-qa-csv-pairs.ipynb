{
 "cells": [
  {
   "cell_type": "code",
   "execution_count": null,
   "metadata": {},
   "outputs": [],
   "source": [
    "import pandas as pd\n",
    "import csv"
   ]
  },
  {
   "cell_type": "code",
   "execution_count": 21,
   "metadata": {},
   "outputs": [
    {
     "name": "stdout",
     "output_type": "stream",
     "text": [
      "0     Q: What is Jenkins?\\nA: Jenkins is a self-cont...\n",
      "1     Q: What is the purpose of the tutorial \"Build ...\n",
      "2     **Q: Who is this LabVIEW CI/CD tutorial intend...\n",
      "3     Q: What is the concept behind using Jenkinsfil...\n",
      "4     Q: What does this tutorial demonstrate?\\nA: Th...\n",
      "                            ...                        \n",
      "91    Q: How can you refer to another project/job by...\n",
      "92    Q: What are the three flavors of remote access...\n",
      "93    Q: What is a Jenkins Agent?\\nA: A Jenkins Agen...\n",
      "94    Q: What is the importance of automating job de...\n",
      "95    Q: What is the purpose of file fingerprinting ...\n",
      "Name: 1, Length: 96, dtype: object\n"
     ]
    }
   ],
   "source": [
    "data = pd.read_excel(\"Jenkins Docs.xlsx\", header=None)\n",
    "\n",
    "second_column_values = data.iloc[:, 1]\n",
    "\n",
    "print(second_column_values)\n"
   ]
  },
  {
   "cell_type": "code",
   "execution_count": 53,
   "metadata": {},
   "outputs": [],
   "source": [
    "output_file = '../datasets/Jenkins Docs QA.csv'\n",
    "\n",
    "with open(output_file, \"w\", newline=\"\") as csvfile:\n",
    "    fieldnames = [\"Question\", \"Answer\"]\n",
    "    writer = csv.DictWriter(csvfile, fieldnames=fieldnames)\n",
    "    writer.writeheader()\n",
    "\n",
    "for idx, text in enumerate(second_column_values):\n",
    "  # Split the text into individual QA pairs\n",
    "  # qas = text.strip().split(\"A:\")\n",
    "\n",
    "  # Write the QA pairs to a CSV file\n",
    "  with open(output_file, \"a\", newline=\"\") as csvfile:\n",
    "      writer = csv.DictWriter(csvfile, fieldnames=fieldnames)\n",
    "\n",
    "      dict = text.strip().split(\"Q:\")\n",
    "      # print(len(dict[1:]), dict[1:])\n",
    "      for item in dict[1:]:\n",
    "          extracted = item.strip().split(\"A:\")\n",
    "          if len(extracted) < 2:\n",
    "              print(idx)\n",
    "              print(item)\n",
    "              print(extracted)\n",
    "          else:\n",
    "              question, answer = extracted    \n",
    "                    \n",
    "          if question.startswith(\"Q:\"):\n",
    "              question = question[2:]\n",
    "          writer.writerow({\"Question\": question.strip(), \"Answer\": answer.strip()})\n"
   ]
  }
 ],
 "metadata": {
  "kernelspec": {
   "display_name": "base",
   "language": "python",
   "name": "python3"
  },
  "language_info": {
   "codemirror_mode": {
    "name": "ipython",
    "version": 3
   },
   "file_extension": ".py",
   "mimetype": "text/x-python",
   "name": "python",
   "nbconvert_exporter": "python",
   "pygments_lexer": "ipython3",
   "version": "3.9.12"
  }
 },
 "nbformat": 4,
 "nbformat_minor": 2
}
